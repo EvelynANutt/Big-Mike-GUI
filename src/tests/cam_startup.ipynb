{
 "cells": [
  {
   "cell_type": "code",
   "execution_count": 1,
   "metadata": {},
   "outputs": [],
   "source": [
    "import PySpin"
   ]
  },
  {
   "cell_type": "code",
   "execution_count": 4,
   "metadata": {},
   "outputs": [
    {
     "name": "stdout",
     "output_type": "stream",
     "text": [
      "4\n"
     ]
    }
   ],
   "source": [
    "\n",
    "system = PySpin.System.GetInstance()\n",
    "cam_list = system.GetCameras()\n",
    "cam = cam_list.GetByIndex(0)\n",
    "\n",
    "if cam.IsInitialized():\n",
    "    cam.DeInit()\n",
    "\n",
    "# access_mode = cam.GetAccessMode()\n",
    "# if access_mode == 1:\n",
    "#     print(\"Read mode\")\n",
    "# elif access_mode == 2:\n",
    "#     print(\"Camera is in WRITE mode.\")\n",
    "# elif access_mode == 3:\n",
    "#     print(\"Camera is in READ-WRITE mode.\")\n",
    "# elif access_mode == 4:\n",
    "#     print(\"No access to the camera! There may be a connection issue.\")\n",
    "# else:\n",
    "#     print(f\"Unknown access mode: {access_mode}\")\n",
    "\n",
    "# try:\n",
    "#     gui_xml = cam.GetGuiXml()\n",
    "#     print(f\"GUI XML: {gui_xml}\")\n",
    "# except PySpin.SpinnakerException as e:\n",
    "#     print(f\"Error retrieving GUI XML: {e}\")\n",
    "\n",
    "\n",
    "cam.Init()\n",
    "mode = cam.GetAccessMode()\n",
    "print(mode)"
   ]
  },
  {
   "cell_type": "code",
   "execution_count": null,
   "metadata": {},
   "outputs": [],
   "source": []
  },
  {
   "cell_type": "code",
   "execution_count": 5,
   "metadata": {},
   "outputs": [],
   "source": [
    "cam.BeginAcquisition()"
   ]
  },
  {
   "cell_type": "code",
   "execution_count": 6,
   "metadata": {},
   "outputs": [],
   "source": [
    "cam.EndAcquisition()"
   ]
  },
  {
   "cell_type": "markdown",
   "metadata": {},
   "source": []
  },
  {
   "cell_type": "code",
   "execution_count": 7,
   "metadata": {},
   "outputs": [],
   "source": [
    "cam.DeInit()"
   ]
  },
  {
   "cell_type": "code",
   "execution_count": 17,
   "metadata": {},
   "outputs": [],
   "source": [
    "if cam.IsStreaming():\n",
    "    cam.EndAcquisition()"
   ]
  },
  {
   "cell_type": "code",
   "execution_count": null,
   "metadata": {},
   "outputs": [],
   "source": []
  },
  {
   "cell_type": "code",
   "execution_count": 18,
   "metadata": {},
   "outputs": [
    {
     "data": {
      "text/plain": [
       "<PySpin.PySpin.CameraPtr; proxy of <Swig Object of type 'Spinnaker::CameraPtr *' at 0x000001A6780BC120> >"
      ]
     },
     "execution_count": 18,
     "metadata": {},
     "output_type": "execute_result"
    }
   ],
   "source": [
    "cam"
   ]
  },
  {
   "cell_type": "code",
   "execution_count": 7,
   "metadata": {},
   "outputs": [],
   "source": [
    "import tkinter"
   ]
  },
  {
   "cell_type": "code",
   "execution_count": null,
   "metadata": {},
   "outputs": [],
   "source": []
  }
 ],
 "metadata": {
  "kernelspec": {
   "display_name": "bigmike",
   "language": "python",
   "name": "python3"
  },
  "language_info": {
   "codemirror_mode": {
    "name": "ipython",
    "version": 3
   },
   "file_extension": ".py",
   "mimetype": "text/x-python",
   "name": "python",
   "nbconvert_exporter": "python",
   "pygments_lexer": "ipython3",
   "version": "3.10.15"
  }
 },
 "nbformat": 4,
 "nbformat_minor": 2
}
