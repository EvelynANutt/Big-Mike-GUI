{
 "cells": [
  {
   "cell_type": "code",
   "execution_count": 14,
   "metadata": {},
   "outputs": [],
   "source": [
    "import AMC\n",
    "device=AMC.Device('192.168.1.1')\n",
    "device.connect()"
   ]
  },
  {
   "cell_type": "code",
   "execution_count": 15,
   "metadata": {},
   "outputs": [
    {
     "name": "stdout",
     "output_type": "stream",
     "text": [
      "20.895\n"
     ]
    }
   ],
   "source": [
    "import numpy as np\n",
    "current_z = device.control.getPositionsAndVoltages()[2]\n",
    "print(current_z)"
   ]
  },
  {
   "cell_type": "code",
   "execution_count": 27,
   "metadata": {},
   "outputs": [
    {
     "name": "stdout",
     "output_type": "stream",
     "text": [
      "-1997.157\n",
      "-1005.994\n"
     ]
    }
   ],
   "source": [
    "import time\n",
    "step = 1000\n",
    "current_z = device.control.getPositionsAndVoltages()[2]\n",
    "new_z = current_z - step\n",
    "device.move.setControlTargetPosition(2,new_z)\n",
    "time.sleep(1)\n",
    "print(device.control.getPositionsAndVoltages()[2])\n",
    "\n",
    "\n",
    "current_y = device.control.getPositionsAndVoltages()[1]\n",
    "new_y = current_y - step\n",
    "device.move.setControlTargetPosition(1,new_y)\n",
    "time.sleep(1)\n",
    "print(device.control.getPositionsAndVoltages()[1])\n"
   ]
  }
 ],
 "metadata": {
  "kernelspec": {
   "display_name": "bigmike",
   "language": "python",
   "name": "python3"
  },
  "language_info": {
   "codemirror_mode": {
    "name": "ipython",
    "version": 3
   },
   "file_extension": ".py",
   "mimetype": "text/x-python",
   "name": "python",
   "nbconvert_exporter": "python",
   "pygments_lexer": "ipython3",
   "version": "3.10.15"
  }
 },
 "nbformat": 4,
 "nbformat_minor": 2
}
